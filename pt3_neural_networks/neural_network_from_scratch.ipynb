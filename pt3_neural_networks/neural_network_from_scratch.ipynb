{
 "cells": [
  {
   "cell_type": "markdown",
   "id": "f7edaa0e",
   "metadata": {},
   "source": [
    "# 3rd Period - Neural Network from scratch"
   ]
  },
  {
   "cell_type": "code",
   "execution_count": 2,
   "id": "8ecb7a52",
   "metadata": {},
   "outputs": [],
   "source": [
    "import pandas as pd\n",
    "import numpy as np\n",
    "\n",
    "df = pd.read_csv(\"dataset/star_classification.csv\")"
   ]
  },
  {
   "cell_type": "code",
   "execution_count": 3,
   "id": "643a418c",
   "metadata": {},
   "outputs": [],
   "source": [
    "from sklearn.preprocessing import LabelBinarizer\n",
    "from sklearn.preprocessing import StandardScaler\n",
    "from sklearn.model_selection import train_test_split\n",
    "\n",
    "X = df.drop(columns=['class']).values.astype(float)\n",
    "lb = LabelBinarizer()\n",
    "Y = lb.fit_transform(df['class'])\n",
    "\n",
    "    \n",
    "scaler = StandardScaler()\n",
    "X = scaler.fit_transform(X)\n",
    "\n",
    "X_train, X_test, Y_train, Y_test = train_test_split(X, Y, test_size=0.2, random_state=42)"
   ]
  },
  {
   "cell_type": "code",
   "execution_count": 4,
   "id": "5d4b0b70",
   "metadata": {},
   "outputs": [],
   "source": [
    "class TestNeuralNetwork:\n",
    "    def __init__(self, layers_shape: list[int]) -> None:\n",
    "        self.layers_shape = layers_shape\n",
    "        self.n_layers = len(layers_shape)\n",
    "        self.weights = [self.weights_initialization(layers_shape[i], layers_shape[i+1]) for i in range(self.n_layers-1)]\n",
    "\n",
    "    def sigmoid(self, x: np.ndarray) -> np.ndarray:\n",
    "        return 1/(1 + np.exp(-x))\n",
    "\n",
    "    def sigmoid_derivative(self, x: np.ndarray) -> np.ndarray:\n",
    "        s = self.sigmoid(x)\n",
    "        return s * (1 - s)\n",
    "\n",
    "    def weights_initialization(self, n_in: int, n_out: int) -> np.ndarray:\n",
    "        return np.random.randn(n_in, n_out) * np.sqrt(2. / n_in)\n",
    "\n",
    "    def feed_forward(self, x: np.ndarray):\n",
    "        a = x\n",
    "        activations = [a]\n",
    "        zs = []\n",
    "        for w in self.weights:\n",
    "            z = a.dot(w)\n",
    "            zs.append(z)\n",
    "            a = self.sigmoid(z)\n",
    "            activations.append(a)\n",
    "        return activations, zs\n",
    "\n",
    "    def loss(self, out: np.ndarray, y: np.ndarray) -> float:\n",
    "        eps = 1e-8\n",
    "        return -np.sum(y * np.log(out + eps)) / y.shape[0]\n",
    "\n",
    "    def back_propagation(self, x: np.ndarray, y: np.ndarray, alpha: float = 0.01) -> None:\n",
    "        activations, zs = self.feed_forward(x)\n",
    "        deltas = [None] * (self.n_layers - 1)\n",
    "        deltas[-1] = (activations[-1] - y) * self.sigmoid_derivative(zs[-1])\n",
    "        for l in range(self.n_layers-3, -1, -1):\n",
    "            deltas[l] = (deltas[l+1].dot(self.weights[l+1].T)) * self.sigmoid_derivative(zs[l])\n",
    "        for l in range(len(self.weights)):\n",
    "            a_prev = activations[l].reshape(-1,1)\n",
    "            d = deltas[l].reshape(1,-1)\n",
    "            self.weights[l] -= alpha * a_prev.dot(d)\n",
    "\n",
    "    def train(self, X: np.ndarray, Y: np.ndarray, alpha: float, epoch: int):\n",
    "        acc = []\n",
    "        losss = []\n",
    "        for j in range(epoch):\n",
    "            l = []\n",
    "            correct = 0\n",
    "            for i in range(len(X)):\n",
    "                out, _ = self.feed_forward(X[i])\n",
    "                l.append(self.loss(out[-1], Y[i]))\n",
    "                self.back_propagation(X[i], Y[i], alpha)\n",
    "                if np.argmax(out[-1]) == np.argmax(Y[i]):\n",
    "                    correct += 1\n",
    "            print(f\"epochs: {j+1} ======== acc: {correct/len(X)*100:.2f}\")\n",
    "            acc.append(correct/len(X)*100)\n",
    "            losss.append(sum(l)/len(X))\n",
    "        return acc, losss, self.weights\n",
    "\n",
    "    def predict(self, x: np.ndarray) -> int:\n",
    "        out, _ = self.feed_forward(x)\n",
    "        return np.argmax(out[-1])\n"
   ]
  },
  {
   "cell_type": "code",
   "execution_count": 5,
   "id": "ff818f3f",
   "metadata": {},
   "outputs": [
    {
     "name": "stdout",
     "output_type": "stream",
     "text": [
      "epochs: 1 ======== acc: 89.60\n",
      "epochs: 2 ======== acc: 93.80\n",
      "epochs: 3 ======== acc: 94.44\n",
      "epochs: 4 ======== acc: 94.88\n"
     ]
    },
    {
     "name": "stderr",
     "output_type": "stream",
     "text": [
      "C:\\Users\\Notebook\\AppData\\Local\\Temp\\ipykernel_27104\\2525042316.py:8: RuntimeWarning: overflow encountered in exp\n",
      "  return 1/(1 + np.exp(-x))\n"
     ]
    },
    {
     "name": "stdout",
     "output_type": "stream",
     "text": [
      "epochs: 5 ======== acc: 95.16\n",
      "epochs: 6 ======== acc: 95.32\n",
      "epochs: 7 ======== acc: 95.42\n",
      "epochs: 8 ======== acc: 95.53\n",
      "epochs: 9 ======== acc: 95.61\n",
      "epochs: 10 ======== acc: 95.70\n",
      "epochs: 11 ======== acc: 95.79\n",
      "epochs: 12 ======== acc: 95.87\n",
      "epochs: 13 ======== acc: 95.93\n",
      "epochs: 14 ======== acc: 95.98\n",
      "epochs: 15 ======== acc: 96.05\n",
      "Accuracy: 96.14%\n"
     ]
    }
   ],
   "source": [
    "\n",
    "nn = TestNeuralNetwork([X_train.shape[1], 32, 16, Y_train.shape[1]])\n",
    "acc, loss, weights = nn.train(X_train, Y_train, alpha=0.05, epoch=15)\n",
    "\n",
    "preds = [nn.predict(x) for x in X_test]\n",
    "y_true = np.argmax(Y_test, axis=1)\n",
    "accuracy = np.mean(np.array(preds) == y_true)\n",
    "print(f\"Accuracy: {accuracy:.2%}\")\n",
    "              \n",
    "         "
   ]
  },
  {
   "cell_type": "code",
   "execution_count": null,
   "id": "70449214",
   "metadata": {},
   "outputs": [],
   "source": []
  },
  {
   "cell_type": "markdown",
   "id": "ec2728cd",
   "metadata": {},
   "source": []
  }
 ],
 "metadata": {
  "kernelspec": {
   "display_name": "Python 3",
   "language": "python",
   "name": "python3"
  },
  "language_info": {
   "codemirror_mode": {
    "name": "ipython",
    "version": 3
   },
   "file_extension": ".py",
   "mimetype": "text/x-python",
   "name": "python",
   "nbconvert_exporter": "python",
   "pygments_lexer": "ipython3",
   "version": "3.12.3"
  }
 },
 "nbformat": 4,
 "nbformat_minor": 5
}
